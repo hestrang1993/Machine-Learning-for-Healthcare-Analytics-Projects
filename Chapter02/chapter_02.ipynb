{
 "cells": [
  {
   "cell_type": "markdown",
   "id": "c11ffe3b-efb4-42b7-b353-bb285000038d",
   "metadata": {},
   "source": [
    "# Chapter 02: Deep Learning Grid Search\n",
    "\n",
    "In this project, I will learn how to use the scikit-learn grid search capability.\n",
    "\n",
    "I are going to learn the following topics:\n",
    "\n",
    "* How to use Keras models in scikit-learn.\n",
    "* How to use grid search in scikit-learn.\n",
    "* How to tune batch size and training epochs.\n",
    "* How to tune learning rate\n",
    "* How to tune network weight initialization.\n",
    "* How to tune activation functions.\n",
    "* How to tune dropout regularization.\n",
    "* How to tune the number of neurons in the hidden layer.\n",
    "\n",
    "## Necessary Imports"
   ]
  },
  {
   "cell_type": "code",
   "execution_count": 1,
   "id": "e47b0323-b953-49e4-9dc4-dc4b7c3c9160",
   "metadata": {},
   "outputs": [],
   "source": [
    "import pandas as pd\n",
    "import numpy as np\n",
    "import sklearn\n",
    "import keras"
   ]
  },
  {
   "cell_type": "markdown",
   "id": "6edb8aaa-37e0-4d0d-bf34-9f78df48dba9",
   "metadata": {},
   "source": [
    "## Create the ``DataFrame``"
   ]
  },
  {
   "cell_type": "code",
   "execution_count": null,
   "id": "d1622794-c679-43f3-9b9c-db37586fc7e3",
   "metadata": {},
   "outputs": [],
   "source": [
    "# Create the DataFrame that will contain my data\n",
    "url = \"http://archive.ics.uci.edu/ml/machine-learning-databases/pima-indians-diabetes/pima-indians-diabetes.data\"\n",
    "\"\"\"\n",
    "str: The link to the dataset.\n",
    "\"\"\"\n",
    "names = [\n",
    "    'n_pregnant',\n",
    "    'glucose_concentration',\n",
    "    'blood_pressure (mm Hg)',\n",
    "    'skin_thickness (mm)',\n",
    "    'serum_insulin (mu U/ml)',\n",
    "    'BMI',\n",
    "    'pedigree_function',\n",
    "    'age',\n",
    "    'class'\n",
    "]\n",
    "\"\"\"\n",
    "list[str]: The columns I want to pull out of the database\n",
    "\"\"\"\n",
    "df = pd.read_csv(\n",
    "    url,\n",
    "    names = names\n",
    ")\n",
    "\"\"\"\n",
    "pandas.\n",
    "\"\"\""
   ]
  }
 ],
 "metadata": {
  "kernelspec": {
   "display_name": "Healthcare Analytics",
   "language": "python",
   "name": "healthcare"
  },
  "language_info": {
   "codemirror_mode": {
    "name": "ipython",
    "version": 3
   },
   "file_extension": ".py",
   "mimetype": "text/x-python",
   "name": "python",
   "nbconvert_exporter": "python",
   "pygments_lexer": "ipython3",
   "version": "3.9.5"
  },
  "widgets": {
   "application/vnd.jupyter.widget-state+json": {
    "state": {},
    "version_major": 2,
    "version_minor": 0
   }
  }
 },
 "nbformat": 4,
 "nbformat_minor": 5
}
